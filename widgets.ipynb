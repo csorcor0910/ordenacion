{
 "cells": [
  {
   "cell_type": "code",
   "execution_count": 5,
   "metadata": {},
   "outputs": [],
   "source": [
    "import ipywidgets as wid"
   ]
  },
  {
   "cell_type": "code",
   "execution_count": 6,
   "metadata": {},
   "outputs": [],
   "source": [
    "def swap (i):\n",
    "    global n\n",
    "    a= n[i]\n",
    "    n[i] = n[i+1]\n",
    "    n[i+1] = a\n",
    "\n",
    "contador = 0\n",
    "n = []"
   ]
  },
  {
   "cell_type": "code",
   "execution_count": 7,
   "metadata": {},
   "outputs": [],
   "source": [
    "n = []\n",
    "def agregar(p):\n",
    "    n.append(int(input.value))\n",
    "    output.value=str(n)\n",
    "def ordenar(p):\n",
    "    parar = 0\n",
    "    global contador\n",
    "    global n\n",
    "    for i in range(len(n)-1):\n",
    "        parar = 1\n",
    "        for j in range(len(n)-1):\n",
    "            if n[j]>n[j+1]:\n",
    "                swap(j)\n",
    "                contador +=1\n",
    "                parar = 0\n",
    "        if parar == 1:\n",
    "            break    \n",
    "    output.value = str(n)\n",
    "\n",
    "boton1_agregar = wid.Button(description=\"agregar\")\n",
    "boton2_ordenar = wid.Button(description=\"ordenar\")\n",
    "output= wid.Text()\n",
    "input = wid.Text()\n",
    "boton1_agregar.on_click(agregar)\n",
    "boton2_ordenar.on_click(ordenar)"
   ]
  },
  {
   "cell_type": "code",
   "execution_count": 8,
   "metadata": {},
   "outputs": [
    {
     "data": {
      "application/vnd.jupyter.widget-view+json": {
       "model_id": "98aeeedcd9b048b7adfd9703e520999d",
       "version_major": 2,
       "version_minor": 0
      },
      "text/plain": [
       "Text(value='')"
      ]
     },
     "metadata": {},
     "output_type": "display_data"
    },
    {
     "data": {
      "application/vnd.jupyter.widget-view+json": {
       "model_id": "2beb4e0e67a743d696fbf86c0429ee95",
       "version_major": 2,
       "version_minor": 0
      },
      "text/plain": [
       "Button(description='agregar', style=ButtonStyle())"
      ]
     },
     "metadata": {},
     "output_type": "display_data"
    },
    {
     "data": {
      "application/vnd.jupyter.widget-view+json": {
       "model_id": "40dd2057039a40d0929692f909e74c44",
       "version_major": 2,
       "version_minor": 0
      },
      "text/plain": [
       "Button(description='ordenar', style=ButtonStyle())"
      ]
     },
     "metadata": {},
     "output_type": "display_data"
    },
    {
     "data": {
      "application/vnd.jupyter.widget-view+json": {
       "model_id": "b1f10002d9024584a8ac7595dbedfbd7",
       "version_major": 2,
       "version_minor": 0
      },
      "text/plain": [
       "Text(value='')"
      ]
     },
     "metadata": {},
     "output_type": "display_data"
    }
   ],
   "source": [
    "display(input, boton1_agregar, boton2_ordenar, output)"
   ]
  },
  {
   "cell_type": "code",
   "execution_count": 4,
   "metadata": {},
   "outputs": [
    {
     "name": "stdout",
     "output_type": "stream",
     "text": [
      "7.7.1\n"
     ]
    }
   ],
   "source": [
    "print(wid.__version__)"
   ]
  },
  {
   "cell_type": "code",
   "execution_count": 7,
   "metadata": {},
   "outputs": [
    {
     "data": {
      "application/vnd.jupyter.widget-view+json": {
       "model_id": "139d1f29d3b34713b56fd54ce06c6e4c",
       "version_major": 2,
       "version_minor": 0
      },
      "text/plain": [
       "IntText(value=7, description='Any:')"
      ]
     },
     "metadata": {},
     "output_type": "display_data"
    }
   ],
   "source": [
    "wid.IntText(\n",
    "    value=7,\n",
    "    description='Any:',\n",
    "    disabled=False\n",
    ")"
   ]
  },
  {
   "cell_type": "code",
   "execution_count": 8,
   "metadata": {},
   "outputs": [
    {
     "data": {
      "application/vnd.jupyter.widget-view+json": {
       "model_id": "13f74a5824f24f50a3537c1c85cd119d",
       "version_major": 2,
       "version_minor": 0
      },
      "text/plain": [
       "RadioButtons(description='Pizza topping:', options=('pepperoni', 'pineapple', 'anchovies'), value='pepperoni')"
      ]
     },
     "metadata": {},
     "output_type": "display_data"
    }
   ],
   "source": [
    "wid.RadioButtons(\n",
    "    options=['pepperoni', 'pineapple', 'anchovies'],\n",
    "#    value='pineapple', # Defaults to 'pineapple'\n",
    "#    layout={'width': 'max-content'}, # If the items' names are long\n",
    "    description='Pizza topping:',\n",
    "    disabled=False\n",
    ")"
   ]
  }
 ],
 "metadata": {
  "kernelspec": {
   "display_name": "Python 3.11.4 ('base')",
   "language": "python",
   "name": "python3"
  },
  "language_info": {
   "codemirror_mode": {
    "name": "ipython",
    "version": 3
   },
   "file_extension": ".py",
   "mimetype": "text/x-python",
   "name": "python",
   "nbconvert_exporter": "python",
   "pygments_lexer": "ipython3",
   "version": "3.11.4"
  },
  "orig_nbformat": 4,
  "vscode": {
   "interpreter": {
    "hash": "4ea585d2fca4d7be1f6314a59926d4c4f40332e94e41f079014119ba430509d5"
   }
  }
 },
 "nbformat": 4,
 "nbformat_minor": 2
}
